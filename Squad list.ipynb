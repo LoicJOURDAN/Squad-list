{
 "cells": [
  {
   "cell_type": "code",
   "execution_count": 1,
   "metadata": {},
   "outputs": [],
   "source": [
    "from itertools import combinations, permutations, combinations_with_replacement\n",
    "import matplotlib.pyplot as plt"
   ]
  },
  {
   "cell_type": "code",
   "execution_count": 15,
   "metadata": {},
   "outputs": [
    {
     "data": {
      "text/plain": [
       "('Messi', ['AD', 'MD', 'BU', 'MOC'], 'ST')"
      ]
     },
     "execution_count": 15,
     "metadata": {},
     "output_type": "execute_result"
    }
   ],
   "source": [
    "players=[('Messi',['AD','MD','BU','MOC'],'ST'),('Griezmann',['AD','AG','MG','MD','BU','MOC'],'ST'),\\\n",
    "         ('Dembele',['AD','MD','AG','MG'],'ST'),('Suarez',['BU'],'ST'),\\\n",
    "         ('Vidal',['MOC','MC','MDC','MD'],'MID'),('Artur',['MOC','MC','MDC'],'MID'),\\\n",
    "         ('De Jong',['MOC','MC','MDC'],'MID'),('Busquets',['MC','MDC'],'MID'),\\\n",
    "         ('Rakitic',['MC','MDC'],'MID'),('Pique',['DC','DD'],'DEF'),('Umtiti',['DC','DG'],'DEF'),\\\n",
    "         ('Lenglet',['DC'],'DEF'),('Alba',['DG'],'DEF'),('Semedo',['DD','MD','AD'],'DEF')]\n",
    "players[0]"
   ]
  },
  {
   "cell_type": "code",
   "execution_count": 16,
   "metadata": {},
   "outputs": [
    {
     "data": {
      "text/plain": [
       "[(4, 4, 2), ['DG', 'DC', 'DC', 'DD', 'MG', 'MC', 'MC', 'MD', 'BU', 'BU']]"
      ]
     },
     "execution_count": 16,
     "metadata": {},
     "output_type": "execute_result"
    }
   ],
   "source": [
    "all_system=[[(4,4,2),['DG','DC','DC','DD','MG','MC','MC','MD','BU','BU']],\\\n",
    "         [(4,3,3),['DG','DC','DC','DD','AG','AD','MC','MC','MOC','BU']],\\\n",
    "         [(4,5,1),['DG','DC','DC','DD','MDC','MDC','MOC','AG','AD','BU']],\\\n",
    "         [(3,4,3),['DC','DC','DC','MD','AG','AD','MC','MC','MG','BU']],\\\n",
    "         [(4,2,4),['DG','DC','DC','DD','MC','MC','AG','AD','BU','BU']]]\n",
    "all_system[0]"
   ]
  },
  {
   "cell_type": "markdown",
   "metadata": {},
   "source": [
    "### 1. Méthode simple: attaquant/milieu/défenseur"
   ]
  },
  {
   "cell_type": "code",
   "execution_count": 4,
   "metadata": {},
   "outputs": [],
   "source": [
    "def position_group(players): # give the list of the strikers, defenders and midfielders\n",
    "    l=[[],[],[]]\n",
    "    for i in range(len(players)):\n",
    "        if players[i][2]=='ST':\n",
    "            l[2].append(players[i][0])\n",
    "        elif players[i][2]=='DEF':\n",
    "            l[0].append(players[i][0])\n",
    "        else:\n",
    "            l[1].append(players[i][0])\n",
    "    return l"
   ]
  },
  {
   "cell_type": "code",
   "execution_count": 5,
   "metadata": {},
   "outputs": [
    {
     "data": {
      "text/plain": [
       "[['Pique', 'Umtiti', 'Lenglet', 'Alba', 'Semedo'],\n",
       " ['Vidal', 'Artur', 'De Jong', 'Busquets', 'Rakitic'],\n",
       " ['Messi', 'Griezmann', 'Dembele', 'Suarez']]"
      ]
     },
     "execution_count": 5,
     "metadata": {},
     "output_type": "execute_result"
    }
   ],
   "source": [
    "position_group(players)"
   ]
  },
  {
   "cell_type": "code",
   "execution_count": 22,
   "metadata": {},
   "outputs": [],
   "source": [
    "def line_up_by_system(players,system):#all the lines up by system\n",
    "    n_defender=system[0][0]\n",
    "    n_midfielder=system[0][1]\n",
    "    n_striker=system[0][2]\n",
    "    list_defender=list(combinations(position_group(players)[0],n_defender))\n",
    "    list_midfielder=list(combinations(position_group(players)[1],n_midfielder))\n",
    "    list_striker=list(combinations(position_group(players)[2],n_striker))\n",
    "    #We have the list of the combinations possible in defense, in attack and in the middle. \n",
    "    #We have now to combine them to have a complete line_up\n",
    "    total=list_defender+list_midfielder+list_striker\n",
    "    global_list=list(combinations(total,3))\n",
    "    n=len(global_list)\n",
    "    #Keep only the good elements (not to have 4 def+4 def +2 Att in a 4-4-2 system)\n",
    "    final=[]\n",
    "    for i in range(n):\n",
    "        if global_list[i][0] in list_defender:\n",
    "            if global_list[i][1] in list_midfielder:\n",
    "                if global_list[i][2] in list_striker:\n",
    "                    final.append(global_list[i])\n",
    "    return final"
   ]
  },
  {
   "cell_type": "code",
   "execution_count": 28,
   "metadata": {},
   "outputs": [
    {
     "data": {
      "text/plain": [
       "(('Pique', 'Umtiti', 'Lenglet', 'Alba'),\n",
       " ('Vidal', 'Artur', 'De Jong'),\n",
       " ('Messi', 'Griezmann', 'Suarez'))"
      ]
     },
     "execution_count": 28,
     "metadata": {},
     "output_type": "execute_result"
    }
   ],
   "source": [
    "line_up_by_system(players,all_system[1])[1] #Exemple of team"
   ]
  },
  {
   "cell_type": "markdown",
   "metadata": {},
   "source": [
    "### 2. Méthode avancée: chaque joueur a plusieurs postes"
   ]
  },
  {
   "cell_type": "markdown",
   "metadata": {},
   "source": [
    "On aura ainsi les compositions plus proches de la réalité. Par exemple on n'aura pas une défense à 3 avec deux DG et un DD qui ne jouent jamais à ce poste."
   ]
  },
  {
   "cell_type": "code",
   "execution_count": 9,
   "metadata": {},
   "outputs": [],
   "source": [
    "def position_player(players,system): #return a list of possible players for each position in a system\n",
    "    position_player=[[],[],[],[],[],[],[],[],[],[]]\n",
    "    n=len(players)\n",
    "    for i in range(len(system[1])):\n",
    "        for j in range(n):\n",
    "            if system[1][i] in players[j][1]:\n",
    "                position_player[i].append(players[j][0])\n",
    "    return position_player, system[1]"
   ]
  },
  {
   "cell_type": "code",
   "execution_count": 10,
   "metadata": {},
   "outputs": [
    {
     "data": {
      "text/plain": [
       "([['Umtiti', 'Alba'],\n",
       "  ['Pique', 'Umtiti', 'Lenglet'],\n",
       "  ['Pique', 'Umtiti', 'Lenglet'],\n",
       "  ['Pique', 'Semedo'],\n",
       "  ['Griezmann', 'Dembele'],\n",
       "  ['Vidal', 'Artur', 'De Jong', 'Busquets', 'Rakitic'],\n",
       "  ['Vidal', 'Artur', 'De Jong', 'Busquets', 'Rakitic'],\n",
       "  ['Messi', 'Griezmann', 'Dembele', 'Vidal', 'Semedo'],\n",
       "  ['Messi', 'Griezmann', 'Suarez'],\n",
       "  ['Messi', 'Griezmann', 'Suarez']],\n",
       " ['DG', 'DC', 'DC', 'DD', 'MG', 'MC', 'MC', 'MD', 'BU', 'BU'])"
      ]
     },
     "execution_count": 10,
     "metadata": {},
     "output_type": "execute_result"
    }
   ],
   "source": [
    "position_player(players,all_system[0])"
   ]
  },
  {
   "cell_type": "code",
   "execution_count": 20,
   "metadata": {},
   "outputs": [],
   "source": [
    "#Non-abouti\n",
    "def line_up_by_system_bis(players,system):#all the lines up by system\n",
    "    n_defender=system[0][0]\n",
    "    n_midfielder=system[0][1]\n",
    "    n_striker=system[0][2]\n",
    "    total=[]\n",
    "    for i in range(10):\n",
    "        list_by_pos=[list(permutations(position_player(players,system)[0][i],1))]\n",
    "        total=total+list_by_pos\n",
    "    #global_list=[]\n",
    "    #for i in range(10):\n",
    "        #global_list=global_list+list(permutations(total[i],len(total[i])))\n",
    "    return total"
   ]
  },
  {
   "cell_type": "code",
   "execution_count": 29,
   "metadata": {},
   "outputs": [
    {
     "data": {
      "text/plain": [
       "[[('Umtiti',), ('Alba',)],\n",
       " [('Pique',), ('Umtiti',), ('Lenglet',)],\n",
       " [('Pique',), ('Umtiti',), ('Lenglet',)],\n",
       " [('Pique',), ('Semedo',)],\n",
       " [('Vidal',), ('Artur',), ('De Jong',), ('Busquets',), ('Rakitic',)],\n",
       " [('Vidal',), ('Artur',), ('De Jong',), ('Busquets',), ('Rakitic',)],\n",
       " [('Messi',), ('Griezmann',), ('Vidal',), ('Artur',), ('De Jong',)],\n",
       " [('Griezmann',), ('Dembele',)],\n",
       " [('Messi',), ('Griezmann',), ('Dembele',), ('Semedo',)],\n",
       " [('Messi',), ('Griezmann',), ('Suarez',)]]"
      ]
     },
     "execution_count": 29,
     "metadata": {},
     "output_type": "execute_result"
    }
   ],
   "source": [
    "line_up_by_system_bis(players,all_system[2]) "
   ]
  },
  {
   "cell_type": "code",
   "execution_count": null,
   "metadata": {},
   "outputs": [],
   "source": []
  }
 ],
 "metadata": {
  "kernelspec": {
   "display_name": "Python 3",
   "language": "python",
   "name": "python3"
  },
  "language_info": {
   "codemirror_mode": {
    "name": "ipython",
    "version": 3
   },
   "file_extension": ".py",
   "mimetype": "text/x-python",
   "name": "python",
   "nbconvert_exporter": "python",
   "pygments_lexer": "ipython3",
   "version": "3.7.4"
  }
 },
 "nbformat": 4,
 "nbformat_minor": 2
}
